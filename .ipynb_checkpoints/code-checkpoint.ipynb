{
 "cells": [
  {
   "cell_type": "code",
   "execution_count": 1,
   "metadata": {
    "collapsed": true
   },
   "outputs": [],
   "source": [
    "import urllib2\n",
    "import numpy as np\n",
    "from math import log10\n",
    "from numpy.linalg import det,inv\n",
    "from sklearn.cross_validation import KFold"
   ]
  },
  {
   "cell_type": "code",
   "execution_count": 2,
   "metadata": {
    "collapsed": true
   },
   "outputs": [],
   "source": [
    "def indicator(y,cls):\n",
    "    if y==cls:\n",
    "        return 1\n",
    "    else:\n",
    "        return 0\n"
   ]
  },
  {
   "cell_type": "code",
   "execution_count": 3,
   "metadata": {
    "collapsed": false
   },
   "outputs": [],
   "source": [
    "def num_cls(Y,cls):\n",
    "    sum1 = 0\n",
    "    for i in Y:\n",
    "        \n",
    "        sum1 += indicator(i,cls)\n",
    "    return sum1\n"
   ]
  },
  {
   "cell_type": "code",
   "execution_count": 5,
   "metadata": {
    "collapsed": false
   },
   "outputs": [],
   "source": [
    "def cal_mu(X,Y,cls):\n",
    "    sum1 = 0\n",
    "    for i in range(len(X)):\n",
    "        sum1 += indicator(Y[i],cls)*X[i]\n",
    "    mu = sum1/num_cls(Y,cls)\n",
    "    return np.reshape(mu,(len(mu),1))\n",
    "\n",
    "#cal_mu(X,Y,0)"
   ]
  },
  {
   "cell_type": "code",
   "execution_count": 6,
   "metadata": {
    "collapsed": false
   },
   "outputs": [],
   "source": [
    "def cal_sigma(X,Y,cls):\n",
    "    sigma = []\n",
    "    sum1 = 0\n",
    "    mu = cal_mu(X,Y,cls)\n",
    "    for i in range(len(X)):\n",
    "        x = np.reshape(X[i],(len(X[i]),1))\n",
    "        sum1 += indicator(Y[i],cls)*(np.dot((x - mu),np.transpose(x-mu)))\n",
    "    return sum1/num_cls(Y,cls)\n",
    "        \n",
    "#cal_sigma(X,Y,0)"
   ]
  },
  {
   "cell_type": "code",
   "execution_count": 7,
   "metadata": {
    "collapsed": false
   },
   "outputs": [],
   "source": [
    "def cal_alpha(X,Y,cls):\n",
    "    return (1.*num_cls(Y,cls)/len(Y))\n",
    "#cal_alpha(X,Y,0)"
   ]
  },
  {
   "cell_type": "code",
   "execution_count": 8,
   "metadata": {
    "collapsed": false
   },
   "outputs": [],
   "source": [
    "def training(X,Y,cat):\n",
    "    mu = []\n",
    "    sigma = []\n",
    "    alpha = []\n",
    "    for cls in cat:\n",
    "        mu.append(cal_mu(X,Y,cls))\n",
    "        sigma.append(cal_sigma(X,Y,cls))\n",
    "        alpha.append(cal_alpha(X,Y,cls))\n",
    "    return mu,sigma,alpha\n",
    "#training(X,Y,cat)"
   ]
  },
  {
   "cell_type": "code",
   "execution_count": 9,
   "metadata": {
    "collapsed": false
   },
   "outputs": [],
   "source": [
    "\n",
    "def membership(X,mu,sigma,alpha,cls):\n",
    "    \n",
    "    \n",
    "    x = np.reshape(X,(len(X),1))\n",
    "    mu = mu[cls]\n",
    "    sigma = sigma[cls]\n",
    "    alpha = alpha[cls]\n",
    "    return ((-log10(det(sigma))) - (0.5*np.dot(np.dot(np.transpose(x-mu),inv(sigma)),(x-mu))) + log10(alpha))    \n"
   ]
  },
  {
   "cell_type": "code",
   "execution_count": 10,
   "metadata": {
    "collapsed": false
   },
   "outputs": [],
   "source": [
    "def accuracy(Y,Y_hat):\n",
    "    sum1 = 0\n",
    "    for i in range(len(Y)):\n",
    "        #print Y[i]\n",
    "        #print Y_hat[i]\n",
    "        if Y[i] != Y_hat[i]:\n",
    "            sum1 += 1\n",
    "    return 1.0*sum1/len(Y)\n",
    "#accuracy([1,1,1,0,0,0],[1,1,1,0,0,1])"
   ]
  },
  {
   "cell_type": "code",
   "execution_count": 11,
   "metadata": {
    "collapsed": true
   },
   "outputs": [],
   "source": [
    "def ten_cross_fold(X,Y,cat):\n",
    "    \n",
    "    accuracies = []\n",
    "    cv = KFold(len(Y),10)\n",
    "    for train_id,test_id in cv:\n",
    "        Y_hat = []\n",
    "        mu,sigma,alpha = training(X[train_id],Y[train_id],cat)\n",
    "        \n",
    "        for x in X[test_id]:\n",
    "            \n",
    "            \n",
    "            g = []\n",
    "            for cls in cat:\n",
    "                g.append(membership(x,mu,sigma,alpha,cls)[0][0])\n",
    "            Y_hat.append(g.index(max(g)))\n",
    "        accuracies.append(accuracy(Y[test_id],Y_hat))\n",
    "    return np.mean(accuracies)\n",
    "            \n",
    "        \n",
    "     "
   ]
  },
  {
   "cell_type": "code",
   "execution_count": 12,
   "metadata": {
    "collapsed": false,
    "scrolled": false
   },
   "outputs": [
    {
     "name": "stdout",
     "output_type": "stream",
     "text": [
      "0.165444832328\n"
     ]
    }
   ],
   "source": [
    "## 1 dimension 2 class data set\n",
    "\n",
    "url = \"http://archive.ics.uci.edu/ml/machine-learning-databases/00267/data_banknote_authentication.txt\"\n",
    "data = urllib2.urlopen(url)\n",
    "data = data.read()\n",
    "data = data.split(\"\\r\\n\")\n",
    "\n",
    "X = []\n",
    "Y = []\n",
    "for i in data:\n",
    "    i = i.split(',')\n",
    "    Y.append(int(i[len(i)-1]))\n",
    "    i = map(float,i[0:len(i)-1])\n",
    "    X.append(i[0])\n",
    "X = np.reshape(np.array(X),(len(X),1))\n",
    "cat = (set(Y))\n",
    "Y = np.reshape(np.array(Y),(len(Y),1))\n",
    "#X.shape\n",
    "#Y.shape\n",
    "\n",
    "error = ten_cross_fold(X,Y,cat)\n",
    "print error"
   ]
  },
  {
   "cell_type": "code",
   "execution_count": 13,
   "metadata": {
    "collapsed": false
   },
   "outputs": [
    {
     "name": "stdout",
     "output_type": "stream",
     "text": [
      "0.0160213688776\n"
     ]
    }
   ],
   "source": [
    "## n dimension 2 class data\n",
    "url = \"http://archive.ics.uci.edu/ml/machine-learning-databases/00267/data_banknote_authentication.txt\"\n",
    "data = urllib2.urlopen(url)\n",
    "data = data.read()\n",
    "data = data.split(\"\\r\\n\")\n",
    "\n",
    "X = []\n",
    "Y = []\n",
    "for i in data:\n",
    "    i = i.split(',')\n",
    "    Y.append(int(i[len(i)-1]))\n",
    "    i = map(float,i[0:len(i)-1])\n",
    "    X.append(i)\n",
    "    \n",
    "X = np.array(X)\n",
    "cat = (set(Y))\n",
    "Y = np.reshape(np.array(Y),(len(Y),1))\n",
    "\n",
    "error = ten_cross_fold(X,Y,cat)\n",
    "print error"
   ]
  },
  {
   "cell_type": "code",
   "execution_count": 14,
   "metadata": {
    "collapsed": false,
    "scrolled": false
   },
   "outputs": [
    {
     "name": "stdout",
     "output_type": "stream",
     "text": [
      "0.0333333333333\n"
     ]
    }
   ],
   "source": [
    "## n dimension k class data set\n",
    "\n",
    "url = \"http://archive.ics.uci.edu/ml/machine-learning-databases/iris/iris.data\"\n",
    "data = urllib2.urlopen(url)\n",
    "data = data.read()\n",
    "data = data.split(\"\\n\")\n",
    "\n",
    "X = []\n",
    "Y = []\n",
    "for i in data[0:len(data)-2]:\n",
    "    i = i.split(',')\n",
    "    Y.append(i[len(i)-1])\n",
    "    i = map(float,i[0:len(i)-1])\n",
    "    X.append(i)\n",
    "for i in range(len(Y)):\n",
    "    if Y[i] == 'Iris-setosa':\n",
    "        Y[i] = 0\n",
    "    elif Y[i] == 'Iris-versicolor':\n",
    "        Y[i] = 1\n",
    "    elif Y[i] == 'Iris-virginica':\n",
    "        Y[i] = 2\n",
    "X = np.array(X)\n",
    "cat = (set(Y))\n",
    "Y = np.reshape(np.array(Y),(len(Y),1))\n",
    "        \n",
    "error = ten_cross_fold(X,Y,cat)\n",
    "print error"
   ]
  },
  {
   "cell_type": "code",
   "execution_count": null,
   "metadata": {
    "collapsed": true
   },
   "outputs": [],
   "source": []
  }
 ],
 "metadata": {
  "kernelspec": {
   "display_name": "Python 2",
   "language": "python",
   "name": "python2"
  },
  "language_info": {
   "codemirror_mode": {
    "name": "ipython",
    "version": 2
   },
   "file_extension": ".py",
   "mimetype": "text/x-python",
   "name": "python",
   "nbconvert_exporter": "python",
   "pygments_lexer": "ipython2",
   "version": "2.7.10"
  }
 },
 "nbformat": 4,
 "nbformat_minor": 0
}
