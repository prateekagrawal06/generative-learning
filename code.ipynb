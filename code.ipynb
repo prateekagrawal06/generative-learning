{
 "cells": [
  {
   "cell_type": "code",
   "execution_count": 1,
   "metadata": {
    "collapsed": true
   },
   "outputs": [],
   "source": [
    "import urllib2\n",
    "import numpy as np\n",
    "from math import log10,factorial\n",
    "from numpy.linalg import det,inv\n",
    "from sklearn.cross_validation import KFold\n",
    "from sklearn.metrics import confusion_matrix\n",
    "import random\n",
    "from nltk.tokenize import word_tokenize\n",
    "import nltk\n",
    "import re\n",
    "from nltk.corpus import stopwords\n",
    "import random\n",
    "import pickle\n",
    "import math\n",
    "import matplotlib.pyplot as plt\n",
    "%matplotlib inline"
   ]
  },
  {
   "cell_type": "code",
   "execution_count": 2,
   "metadata": {
    "collapsed": true
   },
   "outputs": [],
   "source": [
    "def indicator(y,cls):\n",
    "    if y==cls:\n",
    "        return 1\n",
    "    else:\n",
    "        return 0\n"
   ]
  },
  {
   "cell_type": "code",
   "execution_count": 3,
   "metadata": {
    "collapsed": false
   },
   "outputs": [],
   "source": [
    "def num_cls(Y,cls):\n",
    "    sum1 = 0\n",
    "    for i in Y:\n",
    "        \n",
    "        sum1 += indicator(i,cls)\n",
    "    return sum1\n"
   ]
  },
  {
   "cell_type": "code",
   "execution_count": 4,
   "metadata": {
    "collapsed": false
   },
   "outputs": [],
   "source": [
    "def cal_mu(X,Y,cls):\n",
    "    sum1 = 0\n",
    "    for i in range(len(X)):\n",
    "        sum1 += indicator(Y[i],cls)*X[i]\n",
    "    mu = sum1/num_cls(Y,cls)\n",
    "    return np.reshape(mu,(len(mu),1))\n",
    "\n",
    "#cal_mu(X,Y,0)"
   ]
  },
  {
   "cell_type": "code",
   "execution_count": 5,
   "metadata": {
    "collapsed": false
   },
   "outputs": [],
   "source": [
    "def cal_sigma(X,Y,cls):\n",
    "    sigma = []\n",
    "    sum1 = 0\n",
    "    mu = cal_mu(X,Y,cls)\n",
    "    for i in range(len(X)):\n",
    "        x = np.reshape(X[i],(len(X[i]),1))\n",
    "        sum1 += indicator(Y[i],cls)*(np.dot((x - mu),np.transpose(x-mu)))\n",
    "    return sum1/num_cls(Y,cls)\n",
    "        \n",
    "#cal_sigma(X,Y,0)"
   ]
  },
  {
   "cell_type": "code",
   "execution_count": 6,
   "metadata": {
    "collapsed": false
   },
   "outputs": [],
   "source": [
    "def cal_alpha(X,Y,cls):\n",
    "    return (1.*num_cls(Y,cls)/len(Y))\n",
    "#cal_alpha(X,Y,0)"
   ]
  },
  {
   "cell_type": "code",
   "execution_count": 7,
   "metadata": {
    "collapsed": false
   },
   "outputs": [],
   "source": [
    "def training(X,Y,cat):\n",
    "    mu = []\n",
    "    sigma = []\n",
    "    alpha = []\n",
    "    for cls in cat:\n",
    "        mu.append(cal_mu(X,Y,cls))\n",
    "        sigma.append(cal_sigma(X,Y,cls))\n",
    "        alpha.append(cal_alpha(X,Y,cls))\n",
    "    return mu,sigma,alpha\n",
    "#training(X,Y,cat)"
   ]
  },
  {
   "cell_type": "code",
   "execution_count": 8,
   "metadata": {
    "collapsed": false
   },
   "outputs": [],
   "source": [
    "\n",
    "def membership(X,mu,sigma,alpha,cls):\n",
    "    \n",
    "    \n",
    "    x = np.reshape(X,(len(X),1))\n",
    "    mu = mu[cls]\n",
    "    sigma = sigma[cls]\n",
    "    alpha = alpha[cls]\n",
    "    return ((-log10(det(sigma))) - (0.5*np.dot(np.dot(np.transpose(x-mu),inv(sigma)),(x-mu))) + log10(alpha))    \n"
   ]
  },
  {
   "cell_type": "code",
   "execution_count": 9,
   "metadata": {
    "collapsed": true
   },
   "outputs": [],
   "source": [
    "def discriminant(mem_class0,mem_class1,thres):\n",
    "    if (mem_class0-mem_class1)>thres:\n",
    "        return 0\n",
    "    else:\n",
    "        return 1"
   ]
  },
  {
   "cell_type": "code",
   "execution_count": 10,
   "metadata": {
    "collapsed": false
   },
   "outputs": [],
   "source": [
    "def accuracy(Y,Y_hat):\n",
    "    sum1 = 0\n",
    "    for i in range(len(Y)):\n",
    "        #print Y[i]\n",
    "        #print Y_hat[i]\n",
    "        if Y[i] != Y_hat[i]:\n",
    "            sum1 += 1\n",
    "    return 1.0*sum1/len(Y)\n",
    "#accuracy([1,1,1,0,0,0],[1,1,1,0,0,1])"
   ]
  },
  {
   "cell_type": "code",
   "execution_count": 11,
   "metadata": {
    "collapsed": true
   },
   "outputs": [],
   "source": [
    "def ten_cross_fold(X,Y,cat):\n",
    "    \n",
    "    #print thres\n",
    "    \n",
    "    accuracies = []\n",
    "    cv = KFold(len(Y),10)\n",
    "    for train_id,test_id in cv:\n",
    "        Y_hat = []\n",
    "        mu,sigma,alpha = training(X[train_id],Y[train_id],cat)\n",
    "        \n",
    "        \n",
    "        \n",
    "        for x in X[test_id]:\n",
    "            \n",
    "            \n",
    "            g = []\n",
    "            for cls in cat:\n",
    "                g.append(membership(x,mu,sigma,alpha,cls)[0][0])\n",
    "            \n",
    "            Y_hat.append(g.index(max(g)))\n",
    "        \n",
    "        accuracies.append(accuracy(Y[test_id],Y_hat))\n",
    "    return np.mean(accuracies)\n",
    "            \n",
    "        \n",
    "     "
   ]
  },
  {
   "cell_type": "code",
   "execution_count": 12,
   "metadata": {
    "collapsed": false
   },
   "outputs": [],
   "source": [
    "def measures(X,Y,cat):\n",
    "    \n",
    "    \n",
    "    \n",
    "    a = len(Y)/5\n",
    "\n",
    "    Y_pred = []\n",
    "    mu,sigma,alpha = training(X[:len(Y)-a],Y[:len(Y)-a],cat)\n",
    "    \n",
    "    for x in X[len(Y)-a:]:\n",
    "        g = []\n",
    "        for cls in cat:\n",
    "            g.append(membership(x,mu,sigma,alpha,cls)[0][0])\n",
    "        Y_pred.append(g.index(max(g)))\n",
    "        \n",
    "    Y_true = Y[len(Y)-a:]\n",
    "    \n",
    "    \n",
    "    confusion_matrix = []\n",
    "    for cls_pred in cat:\n",
    "        c = []\n",
    "        for cls_true in cat:\n",
    "            sum1 = 0\n",
    "            for i,j in zip(Y_pred,Y_true):                \n",
    "                if i == cls_pred:\n",
    "                    if j == cls_true:\n",
    "                        sum1 += 1\n",
    "            c.append(sum1)\n",
    "        confusion_matrix.append(c)\n",
    "\n",
    "    confusion_matrix = np.array(confusion_matrix)\n",
    "    #print type(confusion_matrix)\n",
    "    print confusion_matrix\n",
    "    print \"\\n\"\n",
    "    \n",
    "    sum_diagonals = 0\n",
    "    sum_all = 0\n",
    "    for i in range(confusion_matrix.shape[0]):\n",
    "        for j in range(confusion_matrix.shape[1]):\n",
    "            sum_all += confusion_matrix[i,j]\n",
    "            if i==j:\n",
    "                sum_diagonals += confusion_matrix[i,j]\n",
    "    print \"ACCURACY: \",(1.*sum_diagonals/sum_all)\n",
    "    print \"\\n\"\n",
    "    \n",
    "    \n",
    "    for cls in cat:\n",
    "        sum_row = 0\n",
    "        sum_col = 0\n",
    "        for i in range(confusion_matrix.shape[0]):\n",
    "            for j in range(confusion_matrix.shape[1]):\n",
    "                \n",
    "                if i==cls:\n",
    "                    sum_row += confusion_matrix[i,j]\n",
    "                if j==cls:\n",
    "                    sum_col += confusion_matrix[i,j]\n",
    "        precision = 1.*confusion_matrix[cls,cls]/sum_row\n",
    "        \n",
    "        recall = 1.*confusion_matrix[cls,cls]/sum_col\n",
    "        \n",
    "        print \"precision for class %d is %f\" % (cls,precision)\n",
    "        print \"Recall for class %d is %f\" % (cls,recall)\n",
    "        print \"F measure for class %d is %f\" % (cls,(2. *precision*recall)/(precision+recall))\n",
    "        print \"\\n\"\n",
    "        \n",
    "    \n",
    "#measures(X,Y,set([0,1]))"
   ]
  },
  {
   "cell_type": "code",
   "execution_count": 41,
   "metadata": {
    "collapsed": true
   },
   "outputs": [],
   "source": [
    "def ROC_curve(X,Y,cat,thres):\n",
    "    \n",
    "    a = len(Y)/5\n",
    "\n",
    "    Y_pred = []\n",
    "    mu,sigma,alpha = training(X[:len(Y)-a],Y[:len(Y)-a],cat)\n",
    "    \n",
    "    for x in X[len(Y)-a:]:\n",
    "        g = []\n",
    "        for cls in cat:\n",
    "            g.append(membership(x,mu,sigma,alpha,cls)[0][0])\n",
    "        #print g\n",
    "        Y_pred.append(discriminant(g[0],g[1],thres))\n",
    "        \n",
    "    Y_true = Y[len(Y)-a:]\n",
    "    \n",
    "    \n",
    "    confusion_matrix = []\n",
    "    for cls_pred in cat:\n",
    "        c = []\n",
    "        for cls_true in cat:\n",
    "            sum1 = 0\n",
    "            for i,j in zip(Y_pred,Y_true):                \n",
    "                if i == cls_pred:\n",
    "                    if j == cls_true:\n",
    "                        sum1 += 1\n",
    "            c.append(sum1)\n",
    "        confusion_matrix.append(c)\n",
    "\n",
    "    confusion_matrix = np.array(confusion_matrix)\n",
    "    \n",
    "    \n",
    "    \n",
    "    precision_all =[]\n",
    "    recall_all = []\n",
    "    \n",
    "    \n",
    "    for cls in cat:\n",
    "        sum_row = 0\n",
    "        sum_col = 0\n",
    "        for i in range(confusion_matrix.shape[0]):\n",
    "            for j in range(confusion_matrix.shape[1]):\n",
    "                \n",
    "                if i==cls:\n",
    "                    sum_row += confusion_matrix[i,j]\n",
    "                if j==cls:\n",
    "                    sum_col += confusion_matrix[i,j]\n",
    "        if sum_row == 0:\n",
    "            precision = 0\n",
    "        else:\n",
    "            precision = 1.*confusion_matrix[cls,cls]/sum_row\n",
    "        precision_all.append(precision)\n",
    "        \n",
    "        if sum_col == 0:\n",
    "            recall = 0\n",
    "        else:\n",
    "            recall = 1.*confusion_matrix[cls,cls]/sum_col\n",
    "        recall_all.append(recall)\n",
    "        \n",
    "    \n",
    "    return precision_all,recall_all\n",
    "    "
   ]
  },
  {
   "cell_type": "code",
   "execution_count": 14,
   "metadata": {
    "collapsed": false,
    "scrolled": true
   },
   "outputs": [
    {
     "name": "stdout",
     "output_type": "stream",
     "text": [
      "set([0, 1])\n",
      "Error by 10 cross fold:  0.155199407595\n",
      "[[130  14]\n",
      " [ 20 110]]\n",
      "\n",
      "\n",
      "ACCURACY:  0.875912408759\n",
      "\n",
      "\n",
      "precision for class 0 is 0.902778\n",
      "Recall for class 0 is 0.866667\n",
      "F measure for class 0 is 0.884354\n",
      "\n",
      "\n",
      "precision for class 1 is 0.846154\n",
      "Recall for class 1 is 0.887097\n",
      "F measure for class 1 is 0.866142\n",
      "\n",
      "\n"
     ]
    }
   ],
   "source": [
    "## 1 dimension 2 class data set for GDA\n",
    "\n",
    "url = \"http://archive.ics.uci.edu/ml/machine-learning-databases/00267/data_banknote_authentication.txt\"\n",
    "data = urllib2.urlopen(url)\n",
    "data = data.read()\n",
    "data = data.split(\"\\r\\n\")\n",
    "random.shuffle(data)\n",
    "\n",
    "X = []\n",
    "Y = []\n",
    "for i in data:\n",
    "    i = i.split(',')\n",
    "    Y.append(int(i[len(i)-1]))\n",
    "    i = map(float,i[0:len(i)-1])\n",
    "    X.append(i[0])\n",
    "X = np.reshape(np.array(X),(len(X),1))\n",
    "cat = (set(Y))\n",
    "Y = np.reshape(np.array(Y),(len(Y),1))\n",
    "#print X.shape\n",
    "#print Y.shape\n",
    "print cat\n",
    "\n",
    "error = ten_cross_fold(X,Y,cat)\n",
    "print \"Error by 10 cross fold: \",error\n",
    "\n",
    "measures(X,Y,cat)\n",
    "\n",
    "\n"
   ]
  },
  {
   "cell_type": "code",
   "execution_count": 37,
   "metadata": {
    "collapsed": false
   },
   "outputs": [],
   "source": [
    "## n dimension 2 class data for GDA\n",
    "url = \"http://archive.ics.uci.edu/ml/machine-learning-databases/00267/data_banknote_authentication.txt\"\n",
    "data = urllib2.urlopen(url)\n",
    "data = data.read()\n",
    "data = data.split(\"\\r\\n\")\n",
    "random.shuffle(data)\n",
    "\n",
    "\n"
   ]
  },
  {
   "cell_type": "code",
   "execution_count": 44,
   "metadata": {
    "collapsed": false
   },
   "outputs": [
    {
     "name": "stdout",
     "output_type": "stream",
     "text": [
      "Error by 10 cross fold:  0.0152967311964\n",
      "[[142   0]\n",
      " [  4 128]]\n",
      "\n",
      "\n",
      "ACCURACY:  0.985401459854\n",
      "\n",
      "\n",
      "precision for class 0 is 1.000000\n",
      "Recall for class 0 is 0.972603\n",
      "F measure for class 0 is 0.986111\n",
      "\n",
      "\n",
      "precision for class 1 is 0.969697\n",
      "Recall for class 1 is 1.000000\n",
      "F measure for class 1 is 0.984615\n",
      "\n",
      "\n"
     ]
    },
    {
     "data": {
      "image/png": "[encoded data removed]",
      "text/plain": [
       "<matplotlib.figure.Figure at 0x114b8f6d0>"
      ]
     },
     "metadata": {},
     "output_type": "display_data"
    },
    {
     "data": {
      "image/png": "[encoded data removed]",
      "text/plain": [
       "<matplotlib.figure.Figure at 0x11015ab50>"
      ]
     },
     "metadata": {},
     "output_type": "display_data"
    }
   ],
   "source": [
    "X = []\n",
    "Y = []\n",
    "for i in data:\n",
    "    i = i.split(',')\n",
    "    Y.append(int(i[len(i)-1]))\n",
    "    i = map(float,i[0:len(i)-1])\n",
    "    X.append(i)\n",
    "    \n",
    "X = np.array(X)\n",
    "cat = (set(Y))\n",
    "Y = np.reshape(np.array(Y),(len(Y),1))\n",
    "\n",
    "#print X.shape\n",
    "#print Y.shape\n",
    "#print np.sum(Y)\n",
    "error = ten_cross_fold(X,Y,cat)\n",
    "\n",
    "print \"Error by 10 cross fold: \",error\n",
    "\n",
    "measures(X,Y,cat)\n",
    "\n",
    "##plotting the curve for precision and recall for different threshold values####\n",
    "\n",
    "thres = np.arange(-50,50,1)\n",
    "#print len(thres)\n",
    "\n",
    "\n",
    "precision_0 = []\n",
    "precision_1 = []\n",
    "recall_0 = []\n",
    "recall_1 = []\n",
    "\n",
    "for th in thres:\n",
    "    \n",
    "    precision_all,recall_all = ROC_curve(X,Y,cat,th)\n",
    "    precision_0.append(precision_all[0])\n",
    "    precision_1.append(precision_all[1])\n",
    "    recall_0.append(recall_all[0])\n",
    "    recall_1.append(recall_all[1])\n",
    "\n",
    "plt.title('Precision-Recall for class 0')\n",
    "plt.plot(recall_0, precision_0,'-bo')\n",
    "plt.xlabel('Recall')\n",
    "plt.ylabel('Precision')\n",
    "plt.ylim([0.0, 1.1])\n",
    "plt.xlim([0.0, 1.1])\n",
    "plt.show()\n",
    "\n",
    "plt.title('Precision-Recall for class 1')\n",
    "plt.plot(recall_1, precision_1,'-bo')\n",
    "plt.xlabel('Recall')\n",
    "plt.ylabel('Precision')\n",
    "plt.ylim([0.0, 1.1])\n",
    "plt.xlim([0.0, 1.1])\n",
    "plt.show()\n",
    "#print precision_0\n",
    "#print recall_0"
   ]
  },
  {
   "cell_type": "code",
   "execution_count": 17,
   "metadata": {
    "collapsed": false,
    "scrolled": false
   },
   "outputs": [
    {
     "name": "stdout",
     "output_type": "stream",
     "text": [
      "Error by 10 cross fold:  0.02\n",
      "[[ 7  0  0]\n",
      " [ 0 10  0]\n",
      " [ 0  2 11]]\n",
      "\n",
      "\n",
      "ACCURACY:  0.933333333333\n",
      "\n",
      "\n",
      "precision for class 0 is 1.000000\n",
      "Recall for class 0 is 1.000000\n",
      "F measure for class 0 is 1.000000\n",
      "\n",
      "\n",
      "precision for class 1 is 1.000000\n",
      "Recall for class 1 is 0.833333\n",
      "F measure for class 1 is 0.909091\n",
      "\n",
      "\n",
      "precision for class 2 is 0.846154\n",
      "Recall for class 2 is 1.000000\n",
      "F measure for class 2 is 0.916667\n",
      "\n",
      "\n"
     ]
    }
   ],
   "source": [
    "## n dimension k class data set for GDA\n",
    "\n",
    "url = \"http://archive.ics.uci.edu/ml/machine-learning-databases/iris/iris.data\"\n",
    "data = urllib2.urlopen(url)\n",
    "data = data.read()\n",
    "data = data.split(\"\\n\")\n",
    "data = data[0:len(data)-2]\n",
    "random.shuffle(data)\n",
    "\n",
    "X = []\n",
    "Y = []\n",
    "for i in data:\n",
    "    i = i.split(',')\n",
    "    Y.append(i[len(i)-1])\n",
    "    i = map(float,i[0:len(i)-1])\n",
    "    X.append(i)\n",
    "for i in range(len(Y)):\n",
    "    if Y[i] == 'Iris-setosa':\n",
    "        Y[i] = 0\n",
    "    elif Y[i] == 'Iris-versicolor':\n",
    "        Y[i] = 1\n",
    "    elif Y[i] == 'Iris-virginica':\n",
    "        Y[i] = 2\n",
    "X = np.array(X)\n",
    "cat = (set(Y))\n",
    "Y = np.reshape(np.array(Y),(len(Y),1))\n",
    "#print len(Y)   \n",
    "error = ten_cross_fold(X,Y,cat)\n",
    "print \"Error by 10 cross fold: \",error\n",
    "measures(X,Y,cat)"
   ]
  },
  {
   "cell_type": "code",
   "execution_count": 18,
   "metadata": {
    "collapsed": true
   },
   "outputs": [],
   "source": [
    "############################# Naive Bayes Bernoulli's############################################"
   ]
  },
  {
   "cell_type": "code",
   "execution_count": 19,
   "metadata": {
    "collapsed": false
   },
   "outputs": [],
   "source": [
    "def prior_bernoulli(Y,cls):\n",
    "    \n",
    "    sum1 = 0\n",
    "    for i in Y:\n",
    "        sum1 += indicator(i,cls)\n",
    "    prior = 1.*sum1/len(Y)\n",
    "    \n",
    "    return prior\n",
    "\n",
    "#prior_bernoulli(Y,0)"
   ]
  },
  {
   "cell_type": "code",
   "execution_count": 20,
   "metadata": {
    "collapsed": false
   },
   "outputs": [],
   "source": [
    "def alpha_bernoulli(X,Y,cls):\n",
    "\n",
    "    e = 0.001\n",
    "    alpha = []\n",
    "    sum_num = 0\n",
    "    sum_den = 0\n",
    "    for i in range(X.shape[1]):\n",
    "        for j in range(X.shape[0]):\n",
    "            sum_num += indicator(Y[j],cls)*X[j][i]\n",
    "            sum_den += indicator(Y[j],cls)\n",
    "        alpha.append((1.*sum_num + e)/(sum_den + 2*e))\n",
    "\n",
    "    return alpha\n",
    "        \n",
    "\n",
    "#alpha_bernoulli(X[0:10],Y[0:10],0)"
   ]
  },
  {
   "cell_type": "code",
   "execution_count": 21,
   "metadata": {
    "collapsed": false
   },
   "outputs": [],
   "source": [
    "def membership_bernoulli(X,alpha,prior,cls):\n",
    "    \n",
    "    g = 0\n",
    "   \n",
    "    for i in range(len(X)):\n",
    "        g += (X[i]*log10(alpha[cls][i])) + ((1-X[i])*log10(1-alpha[cls][i]))\n",
    "         \n",
    "    g += log10(prior[cls])\n",
    "    \n",
    "\n",
    "    return g\n",
    "    \n"
   ]
  },
  {
   "cell_type": "code",
   "execution_count": 22,
   "metadata": {
    "collapsed": false
   },
   "outputs": [],
   "source": [
    "def training_bernoulli(X,Y,cat):\n",
    "    prior = []\n",
    "    alpha = []\n",
    "    for cls in cat:\n",
    "        prior.append(prior_bernoulli(Y,cls))\n",
    "        alpha.append(alpha_bernoulli(X,Y,cls))\n",
    "    return prior,alpha\n",
    "\n",
    "\n",
    "#training_bernouli(X[0:10],Y[0:10],cat)"
   ]
  },
  {
   "cell_type": "code",
   "execution_count": 23,
   "metadata": {
    "collapsed": true
   },
   "outputs": [],
   "source": [
    "def ten_cross_fold_bernoulli(X,Y,cat):\n",
    "    \n",
    "    accuracies = []\n",
    "    cv = KFold(len(Y),10)\n",
    "    for train_id,test_id in cv:\n",
    "        Y_hat = []\n",
    "        prior,alpha = training_bernoulli(X[train_id],Y[train_id],cat)\n",
    "        \n",
    "        for x in X[test_id]:\n",
    "            \n",
    "            g = []\n",
    "            \n",
    "            for cls in cat:\n",
    "                g.append(membership_bernoulli(x,alpha,prior,cls))\n",
    "            Y_hat.append(g.index(max(g)))\n",
    "        \n",
    "        accuracies.append(accuracy(Y[test_id],Y_hat))\n",
    "    return np.mean(accuracies)\n"
   ]
  },
  {
   "cell_type": "code",
   "execution_count": 24,
   "metadata": {
    "collapsed": true
   },
   "outputs": [],
   "source": [
    "def measures_bernoulli(X,Y,cat):\n",
    "    \n",
    "    \n",
    "    \n",
    "    a = len(Y)/5\n",
    "\n",
    "    Y_pred = []\n",
    "    prior,alpha = training_bernoulli(X[:len(Y)-a],Y[:len(Y)-a],cat)\n",
    "    \n",
    "    for x in X[len(Y)-a:]:\n",
    "        g = []\n",
    "        for cls in cat:\n",
    "            g.append(membership_bernoulli(x,alpha,prior,cls))\n",
    "        Y_pred.append(g.index(max(g)))\n",
    "        \n",
    "    Y_true = Y[len(Y)-a:]\n",
    "    \n",
    "    \n",
    "    confusion_matrix = []\n",
    "    for cls_pred in cat:\n",
    "        c = []\n",
    "        for cls_true in cat:\n",
    "            sum1 = 0\n",
    "            for i,j in zip(Y_pred,Y_true):                \n",
    "                if i == cls_pred:\n",
    "                    if j == cls_true:\n",
    "                        sum1 += 1\n",
    "            c.append(sum1)\n",
    "        confusion_matrix.append(c)\n",
    "\n",
    "    confusion_matrix = np.array(confusion_matrix)\n",
    "    #print type(confusion_matrix)\n",
    "    print confusion_matrix\n",
    "    print \"\\n\"\n",
    "    \n",
    "    sum_diagonals = 0\n",
    "    sum_all = 0\n",
    "    for i in range(confusion_matrix.shape[0]):\n",
    "        for j in range(confusion_matrix.shape[1]):\n",
    "            sum_all += confusion_matrix[i,j]\n",
    "            if i==j:\n",
    "                sum_diagonals += confusion_matrix[i,j]\n",
    "    print \"ACCURACY: \",(1.*sum_diagonals/sum_all)\n",
    "    print \"\\n\"\n",
    "    for cls in cat:\n",
    "        sum_row = 0\n",
    "        sum_col = 0\n",
    "        for i in range(confusion_matrix.shape[0]):\n",
    "            for j in range(confusion_matrix.shape[1]):\n",
    "                \n",
    "                if i==cls:\n",
    "                    sum_row += confusion_matrix[i,j]\n",
    "                if j==cls:\n",
    "                    sum_col += confusion_matrix[i,j]\n",
    "        precision = 1.*confusion_matrix[cls,cls]/sum_row\n",
    "        recall = 1.*confusion_matrix[cls,cls]/sum_col\n",
    "        print \"precision for class %d is %f\" % (cls,precision)\n",
    "        print \"Recall for class %d is %f\" % (cls,recall)\n",
    "        print \"F measure for class %d is %f\" % (cls,(2. *precision*recall)/(precision+recall))\n",
    "        print \"\\n\""
   ]
  },
  {
   "cell_type": "code",
   "execution_count": 25,
   "metadata": {
    "collapsed": false
   },
   "outputs": [
    {
     "name": "stdout",
     "output_type": "stream",
     "text": [
      "Error by 10 cross fold:  0.299717061209\n",
      "[[455 175]\n",
      " [ 95 195]]\n",
      "\n",
      "\n",
      "ACCURACY:  0.70652173913\n",
      "\n",
      "\n",
      "precision for class 0 is 0.722222\n",
      "Recall for class 0 is 0.827273\n",
      "F measure for class 0 is 0.771186\n",
      "\n",
      "\n",
      "precision for class 1 is 0.672414\n",
      "Recall for class 1 is 0.527027\n",
      "F measure for class 1 is 0.590909\n",
      "\n",
      "\n"
     ]
    }
   ],
   "source": [
    "url = \"http://archive.ics.uci.edu/ml/machine-learning-databases/spambase/spambase.data\"\n",
    "data = urllib2.urlopen(url)\n",
    "data = data.read()\n",
    "data = data.split(\"\\r\\n\")\n",
    "data = data[:len(data)-1]\n",
    "random.shuffle(data)\n",
    "x = []\n",
    "Y = []\n",
    "for i in data:\n",
    "    i = i.split(',')\n",
    "    x.append(map(float,i[:48]))\n",
    "    Y.append(map(int,i[57])[0])\n",
    "    \n",
    "\n",
    "X = []\n",
    "for i in x:\n",
    "    a = []\n",
    "    for j in i:\n",
    "        if j == 0:\n",
    "            a.append(0)\n",
    "        else:\n",
    "            a.append(1)\n",
    "    X.append(a)\n",
    "\n",
    "\n",
    "\n",
    "X = np.array(X)\n",
    "cat = set(Y)\n",
    "\n",
    "Y = np.reshape(np.array(Y),(len(Y),1))\n",
    "\n",
    "\n",
    "error = ten_cross_fold_bernoulli(X,Y,cat)\n",
    "print \"Error by 10 cross fold: \",error\n",
    "\n",
    "measures_bernoulli(X,Y,cat)\n"
   ]
  },
  {
   "cell_type": "code",
   "execution_count": 26,
   "metadata": {
    "collapsed": true
   },
   "outputs": [],
   "source": [
    "################################ Naive Bayes Binomial's################################################################"
   ]
  },
  {
   "cell_type": "code",
   "execution_count": 27,
   "metadata": {
    "collapsed": false
   },
   "outputs": [
    {
     "data": {
      "text/plain": [
       "1"
      ]
     },
     "execution_count": 27,
     "metadata": {},
     "output_type": "execute_result"
    }
   ],
   "source": [
    "def f(n):\n",
    "    return factorial(n)\n",
    "f(1)"
   ]
  },
  {
   "cell_type": "code",
   "execution_count": 28,
   "metadata": {
    "collapsed": false
   },
   "outputs": [
    {
     "data": {
      "text/plain": [
       "0.6059552271245382"
      ]
     },
     "execution_count": 28,
     "metadata": {},
     "output_type": "execute_result"
    }
   ],
   "source": [
    "def prior_binomial(Y,cls):\n",
    "    \n",
    "    sum1 = 0\n",
    "    for i in Y:\n",
    "        sum1 += indicator(i,cls)\n",
    "    prior = 1.*sum1/len(Y)\n",
    "    \n",
    "    return prior\n",
    "prior_binomial(Y,0)"
   ]
  },
  {
   "cell_type": "code",
   "execution_count": 29,
   "metadata": {
    "collapsed": false
   },
   "outputs": [],
   "source": [
    "def alpha_binomial(X,Y,cls):\n",
    "\n",
    "    e = 0.001\n",
    "    alpha = []\n",
    "    sum_num = 0\n",
    "    sum_den = 0\n",
    "    for i in range(X.shape[1]):\n",
    "        for j in range(X.shape[0]):\n",
    "            sum_num += indicator(Y[j],cls)*X[j][i]\n",
    "            sum_den += indicator(Y[j],cls)*P[j][0]\n",
    "        alpha.append((1.*sum_num + e)/(sum_den + 2*e))\n",
    "\n",
    "    return alpha\n",
    "#print alpha_binomial(X[0:5],Y[0:5],0)\n",
    "#print alpha_binomial(X[0:5],Y[0:5],1)"
   ]
  },
  {
   "cell_type": "code",
   "execution_count": 30,
   "metadata": {
    "collapsed": true
   },
   "outputs": [],
   "source": [
    "def membership_binomial(X,alpha,prior,cls):\n",
    "    \n",
    "    g = 0\n",
    "    P = sum(X)\n",
    "    for i in range(len(X)):\n",
    "        g +=   log10(f(P)/(f(X[i])*f(P-X[i]))) + (X[i]*log10(alpha[cls][i])) + ((P-X[i])*log10(1-alpha[cls][i]))\n",
    "         \n",
    "    g += log10(prior[cls])\n",
    "    \n",
    "\n",
    "    return g"
   ]
  },
  {
   "cell_type": "code",
   "execution_count": 31,
   "metadata": {
    "collapsed": false
   },
   "outputs": [],
   "source": [
    "def training_binomial(X,Y,cat):\n",
    "    prior = []\n",
    "    alpha = []\n",
    "    for cls in cat:\n",
    "        prior.append(prior_binomial(Y,cls))\n",
    "        alpha.append(alpha_binomial(X,Y,cls))\n",
    "    return prior,alpha\n",
    "#training_binomial(X[0:10],Y[0:10],cat)"
   ]
  },
  {
   "cell_type": "code",
   "execution_count": 32,
   "metadata": {
    "collapsed": true
   },
   "outputs": [],
   "source": [
    "def ten_cross_fold_binomial(X,Y,cat):\n",
    "    \n",
    "    accuracies = []\n",
    "    cv = KFold(len(Y),10)\n",
    "    for train_id,test_id in cv:\n",
    "        Y_hat = []\n",
    "        prior,alpha = training_binomial(X[train_id],Y[train_id],cat)\n",
    "        \n",
    "        for x in X[test_id]:\n",
    "            \n",
    "            g = []\n",
    "            \n",
    "            for cls in cat:\n",
    "                g.append(membership_binomial(x,alpha,prior,cls))\n",
    "            Y_hat.append(g.index(max(g)))\n",
    "        \n",
    "        accuracies.append(accuracy(Y[test_id],Y_hat))\n",
    "    return np.mean(accuracies)\n"
   ]
  },
  {
   "cell_type": "code",
   "execution_count": 33,
   "metadata": {
    "collapsed": true
   },
   "outputs": [],
   "source": [
    "def measures_binomial(X,Y,cat):\n",
    "    \n",
    "    \n",
    "    \n",
    "    a = len(Y)/5\n",
    "\n",
    "    Y_pred = []\n",
    "    prior,alpha = training_binomial(X[:len(Y)-a],Y[:len(Y)-a],cat)\n",
    "    \n",
    "    for x in X[len(Y)-a:]:\n",
    "        g = []\n",
    "        for cls in cat:\n",
    "            g.append(membership_binomial(x,alpha,prior,cls))\n",
    "        Y_pred.append(g.index(max(g)))\n",
    "        \n",
    "    Y_true = Y[len(Y)-a:]\n",
    "    \n",
    "    \n",
    "    confusion_matrix = []\n",
    "    for cls_pred in cat:\n",
    "        c = []\n",
    "        for cls_true in cat:\n",
    "            sum1 = 0\n",
    "            for i,j in zip(Y_pred,Y_true):                \n",
    "                if i == cls_pred:\n",
    "                    if j == cls_true:\n",
    "                        sum1 += 1\n",
    "            c.append(sum1)\n",
    "        confusion_matrix.append(c)\n",
    "\n",
    "    confusion_matrix = np.array(confusion_matrix)\n",
    "    #print type(confusion_matrix)\n",
    "    print confusion_matrix\n",
    "    print \"\\n\"\n",
    "    \n",
    "    sum_diagonals = 0\n",
    "    sum_all = 0\n",
    "    for i in range(confusion_matrix.shape[0]):\n",
    "        for j in range(confusion_matrix.shape[1]):\n",
    "            sum_all += confusion_matrix[i,j]\n",
    "            if i==j:\n",
    "                sum_diagonals += confusion_matrix[i,j]\n",
    "    print \"ACCURACY: \",(1.*sum_diagonals/sum_all)\n",
    "    print \"\\n\"\n",
    "    for cls in cat:\n",
    "        sum_row = 0\n",
    "        sum_col = 0\n",
    "        for i in range(confusion_matrix.shape[0]):\n",
    "            for j in range(confusion_matrix.shape[1]):\n",
    "                \n",
    "                if i==cls:\n",
    "                    sum_row += confusion_matrix[i,j]\n",
    "                if j==cls:\n",
    "                    sum_col += confusion_matrix[i,j]\n",
    "        precision = 1.*confusion_matrix[cls,cls]/sum_row\n",
    "        recall = 1.*confusion_matrix[cls,cls]/sum_col\n",
    "        print \"precision for class %d is %f\" % (cls,precision)\n",
    "        print \"Recall for class %d is %f\" % (cls,recall)\n",
    "        print \"F measure for class %d is %f\" % (cls,(2. *precision*recall)/(precision+recall))\n",
    "        print \"\\n\""
   ]
  },
  {
   "cell_type": "code",
   "execution_count": 34,
   "metadata": {
    "collapsed": false,
    "scrolled": false
   },
   "outputs": [
    {
     "name": "stdout",
     "output_type": "stream",
     "text": [
      "Error by 10 cross fold:  0.303851268509\n",
      "[[266  14]\n",
      " [299 341]]\n",
      "\n",
      "\n",
      "ACCURACY:  0.659782608696\n",
      "\n",
      "\n",
      "precision for class 0 is 0.950000\n",
      "Recall for class 0 is 0.470796\n",
      "F measure for class 0 is 0.629586\n",
      "\n",
      "\n",
      "precision for class 1 is 0.532813\n",
      "Recall for class 1 is 0.960563\n",
      "F measure for class 1 is 0.685427\n",
      "\n",
      "\n"
     ]
    }
   ],
   "source": [
    "url = \"http://archive.ics.uci.edu/ml/machine-learning-databases/spambase/spambase.data\"\n",
    "data = urllib2.urlopen(url)\n",
    "data = data.read()\n",
    "data = data.split(\"\\r\\n\")\n",
    "data = data[:len(data)-1]\n",
    "random.shuffle(data)\n",
    "x = []\n",
    "Y = []\n",
    "for i in data:\n",
    "    i = i.split(',')\n",
    "    x.append(map(float,i[:48]))\n",
    "    Y.append(map(int,i[57])[0])\n",
    "    \n",
    "\n",
    "X = []\n",
    "for i in x:\n",
    "    a = []\n",
    "    for j in i:\n",
    "        if j == 0:\n",
    "            a.append(0)\n",
    "        else:\n",
    "            a.append(int(math.ceil(1.*j*10)))\n",
    "    X.append(a)\n",
    "\n",
    "\n",
    "\n",
    "X = np.array(X)\n",
    "cat = set(Y)\n",
    "\n",
    "Y = np.reshape(np.array(Y),(len(Y),1))\n",
    "\n",
    "\n",
    "P = []\n",
    "for i in range(len(X)):\n",
    "    P.append(sum(X[i]))\n",
    "P = np.reshape(np.array(P),(len(P),1))\n",
    "\n",
    "error = ten_cross_fold_binomial(X,Y,cat)\n",
    "print \"Error by 10 cross fold: \",error\n",
    "\n",
    "measures_binomial(X,Y,cat)\n"
   ]
  },
  {
   "cell_type": "code",
   "execution_count": null,
   "metadata": {
    "collapsed": true
   },
   "outputs": [],
   "source": []
  }
 ],
 "metadata": {
  "kernelspec": {
   "display_name": "Python 2",
   "language": "python",
   "name": "python2"
  },
  "language_info": {
   "codemirror_mode": {
    "name": "ipython",
    "version": 2
   },
   "file_extension": ".py",
   "mimetype": "text/x-python",
   "name": "python",
   "nbconvert_exporter": "python",
   "pygments_lexer": "ipython2",
   "version": "2.7.10"
  }
 },
 "nbformat": 4,
 "nbformat_minor": 0
}
